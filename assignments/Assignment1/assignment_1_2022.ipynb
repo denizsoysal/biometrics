{
 "cells": [
  {
   "cell_type": "markdown",
   "metadata": {},
   "source": [
    "![title](img/logo.png)\n",
    "# Biometrics System Concepts\n",
    "## Assignment 1: Evaluating performance of biometric systems\n",
    "<b>Name</b>: Deniz SOYSAL|\n",
    "<b>Student-nr</b>: r0875700 |\n",
    "<b>Date</b>: March 25, 2021\n",
    "---\n",
    "\n",
    "In this assignment we focus on evaluating the performance of any biometric system in a verification and identification setting. \n",
    "\n",
    "Before you get started you should be able to properly distinguish verification from identification and know the corresponding validation procedures. If this is not the case for you yet, **review the lecture notes!** We will give a short recap to refresh your memory: \n",
    "* **VERIFICATION** (a.k.a. authentication): Authenticating a claimed identity (is this person who he/she claims to be?).\n",
    "\n",
    "* **IDENTIFICATION**: Associate a particular individual with an identity (who is this unidentified individual?).\n",
    "\n",
    "This document is structured as follows:\n",
    "\n",
    "- [I. Reading the data](#I.-Reading-the-data)\n",
    "- [II. Validation of verification system](#II.-Validation-of-verification-system)\n",
    "- [III. Validation of identification system](#III.-Validation-of-identification-system)\n",
    "- [IV. Assignment Instructions](#IV.-Assignment-Instructions)\n",
    "\n",
    "\n",
    "Code examples will be provided below. You can and are invited to adapt these at your will (different parameter settings, different choices of alogorithmic components). The code examples in this assignment are just sekeleton code,  **adapt where needed! And try to keep things structured!** "
   ]
  },
  {
   "cell_type": "code",
   "execution_count": 330,
   "metadata": {
    "jupyter": {
     "outputs_hidden": true
    }
   },
   "outputs": [],
   "source": [
    "# Install and import the required python packages to run this notebook. Feel free to add more packages whenever needed.\n",
    "\n",
    "import numpy as np\n",
    "%matplotlib inline\n",
    "import matplotlib.pyplot as plt\n",
    "#seaborn more suited for datagframe \n",
    "import seaborn as sns\n",
    "\n",
    "#library with a lot of functions to compute FPR, FNR, plot DEC, ROC, ...\n",
    "#see https://scikit-learn.org/stable/modules/model_evaluation.html\n",
    "from sklearn import metrics\n",
    "\n",
    "# package for reading xml files\n",
    "import xml.etree.ElementTree as ET\n",
    "\n",
    "import os\n",
    "\n",
    "# package for data analysis with fast and flexible data structures\n",
    "import pandas as pd\n",
    "\n",
    "\n",
    "# package to show a nice graphical progress-bar for lengthy calculations\n",
    "# docu and installation on https://tqdm.github.io\n",
    "# if you have difficulties installing this package: \n",
    "# - make sure your jupyter lab is up to date\n",
    "# - https://github.com/tqdm/tqdm/issues/394#issuecomment-384743637\n",
    "# - consider just leaving it out (just remove the 'tqdm_notebook' in the code)\n",
    "from tqdm.notebook import tqdm as tqdm_notebook\n",
    "\n",
    "# import local modules for reading and converting BSSR1 fingerprint score data\n",
    "import src.BSSR1 as BSSR1\n",
    "\n",
    "import pickle\n",
    "\n",
    "#to print beautiful tables\n",
    "from beautifultable import BeautifulTable\n",
    "\n",
    "#to print full dataframe\n",
    "from IPython.core.display import HTML\n",
    "\n",
    "\n"
   ]
  },
  {
   "cell_type": "markdown",
   "metadata": {},
   "source": [
    "<div class=\"alert alert-block alert-info\">\n",
    "<b>Tip:</b> \n",
    "Many operations have already been implemented in <a href=\"https://docs.scipy.org/doc/numpy/index.html\">SciPy</a>, feel free to use them or any other unless explicitely stated not to in the assignment.</div>"
   ]
  },
  {
   "cell_type": "markdown",
   "metadata": {},
   "source": [
    "## I. Reading the data\n",
    "In this assignment we focus on the validation of a pre-exising biometric system. We will make use of actual predicted fingerprint similarity scores, from the left and right index fingers. This bypasses all steps of preprocessing, feature extraction and matching and allows us to concentrate on the score evaluation procedures. The scores are the result of comparing an enrolled user's image with that of the same (genuine scores) or another user (impostor scores). The data (biometrics scores set BSSR1) are made available through the American National Institute of Standards and Technologies [(NIST)](https://www.nist.gov/itl/iad/image-group/nist-biometric-scores-set-bssr1). They are provided as part of your assignment folder in the `data/fing-x-fing` subfolder. \n",
    "\n",
    "In this code example we will compare the performance of a biometric system that was based on the right index finger to a biometric system based on the left index finger. These systems are referred to as `ri` and `li` respectively in both code and text.  "
   ]
  },
  {
   "cell_type": "markdown",
   "metadata": {},
   "source": [
    "### 1.1. Loading the similarity matrix and reading the genuine and impostor scores\n",
    "We provide you with the code to read the scores from the files (normally you can leave this code as-is).\n",
    "\n",
    "The code consits of 2 steps that are executed for both the `ri` and `li` system: \n",
    "1. Scores are converted to similarity matrices. To simplify the task we have provided you with the similarity matrices. You need to load the similarity matrices with the genuine scores on the diagonal and the impostor scores on the off-diagonal elements.  \n",
    "2. Convert the original scores to a linear list of scores with associated labels of genuine or impostor (simplifies use of [scikit-learn](https://scikit-learn.org/stable/index.html))\n",
    "\n"
   ]
  },
  {
   "cell_type": "code",
   "execution_count": 210,
   "metadata": {
    "tags": []
   },
   "outputs": [],
   "source": [
    "# STEP 1: loading the similarity matrices for left and right index fingers\n",
    "with open('./data/li_similarity_matrix.pickle', 'rb') as f:\n",
    "    li_similarity_matrix = pickle.load(f)\n",
    "with open('./data/ri_similarity_matrix.pickle', 'rb') as f:\n",
    "    ri_similarity_matrix = pickle.load(f)\n"
   ]
  },
  {
   "cell_type": "code",
   "execution_count": 3,
   "metadata": {
    "tags": []
   },
   "outputs": [
    {
     "name": "stdout",
     "output_type": "stream",
     "text": [
      "[1. 1. 1. ... 0. 0. 0.]\n",
      "when 1--> geunine, when 0 --> impostor\n",
      "[0.18320611 0.27099237 0.0648855  ... 0.03053435 0.02290076 0.01145038]\n",
      "correspond to matching scores\n"
     ]
    }
   ],
   "source": [
    "# STEP 2: convert to genuine and impostor scores, the *_genuine_id provides a mask for the genuine scores\n",
    "li_genuine_id, li_scores = BSSR1.sim2scores(li_similarity_matrix)\n",
    "ri_genuine_id, ri_scores = BSSR1.sim2scores(ri_similarity_matrix)\n",
    "\n",
    "print(li_genuine_id)\n",
    "print(\"when 1--> geunine, when 0 --> impostor\")\n",
    "print(li_scores)\n",
    "print(\"correspond to matching scores\")"
   ]
  },
  {
   "cell_type": "code",
   "execution_count": 4,
   "metadata": {},
   "outputs": [
    {
     "name": "stdout",
     "output_type": "stream",
     "text": [
      "        li_genuine_id  li_scores  ri_genuine_id  ri_scores\n",
      "0                 1.0   0.183206            1.0   0.125874\n",
      "1                 1.0   0.270992            1.0   0.353147\n",
      "2                 1.0   0.064885            1.0   0.101399\n",
      "3                 1.0   0.041985            1.0   0.209790\n",
      "4                 1.0   0.377863            1.0   0.367133\n",
      "...               ...        ...            ...        ...\n",
      "999995            0.0   0.011450            0.0   0.013986\n",
      "999996            0.0   0.030534            0.0   0.000000\n",
      "999997            0.0   0.030534            0.0   0.024476\n",
      "999998            0.0   0.022901            0.0   0.010490\n",
      "999999            0.0   0.011450            0.0   0.010490\n",
      "\n",
      "[1000000 rows x 4 columns]\n"
     ]
    }
   ],
   "source": [
    "#let's work with dataframes\n",
    "columns=['li_genuine_id', 'li_scores', 'ri_genuine_id', 'ri_scores']\n",
    "data_list = [li_genuine_id, li_scores, ri_genuine_id, ri_scores]\n",
    "df = pd.DataFrame(data_list,index=columns).transpose()\n",
    "print(df)"
   ]
  },
  {
   "cell_type": "markdown",
   "metadata": {},
   "source": [
    "<div class=\"alert alert-block alert-info\">\n",
    "<b>Tip:</b> \n",
    "In this assignment we focus only on evaluating biometric systems. It is in your best interest to write your code such that it can easily be reused in the upcoming assignments, where you will have to develop entire biometric system pipelines.</div>"
   ]
  },
  {
   "cell_type": "markdown",
   "metadata": {},
   "source": [
    "## II. Validation of verification system\n",
    "\n",
    "[1]: <https://link.springer.com/book/10.1007/978-0-387-77326-1> ('Introduction to Biometrics' by AK Jain et al)\n",
    "[2]: <https://machinelearningmastery.com/roc-curves-and-precision-recall-curves-for-classification-in-python/> (How and When to Use ROC Curves and Precision-Recall Curves for Classification in Python)\n",
    "\n",
    "The performance of a verification scenario can be expressed in a number of ways (see [Jain et al.][1] section 1.4.1.1 for more information). In essence one has a binary classification problem: is it the claimed identity or not? \n",
    "\n",
    "We denote our classes as:\n",
    "<ol start=\"0\">\n",
    "  <li>Impostor (False),</li>\n",
    "  <li>Genuine (True).</li>\n",
    "</ol>\n",
    "\n",
    "Furthermore, we represent the set of scores as s, the imposter event as $I$ and a genuine event as $G$."
   ]
  },
  {
   "cell_type": "markdown",
   "metadata": {},
   "source": [
    "### 1. Evaluation using FMR, FRR, ROC and Precision/Recall curves\n",
    "\n",
    "[1]: <https://link.springer.com/book/10.1007/978-0-387-77326-1> ('Introduction to Biometrics' by AK Jain et al)\n",
    "[2]: <https://machinelearningmastery.com/roc-curves-and-precision-recall-curves-for-classification-in-python/> (How and When to Use ROC Curves and Precision-Recall Curves for Classification in Python)\n",
    "\n",
    "\n",
    "\n",
    "#### 1.1 Genuine and impostor score distributions\n",
    "Given the genuine and impostor scores (from section I), we can plot the imposter $p(s | I)$ and genuine $p(s | G)$ distribution to gain some first insights in the system. The result should look something like this:\n",
    "\n",
    "<p align=\"center\">\n",
    "    <img src=\"img/ScoreDistributions.png\" width=\"250\" height=\"auto\"/>\n",
    "</p>\n"
   ]
  },
  {
   "cell_type": "markdown",
   "metadata": {},
   "source": [
    "<div class=\"alert alert-block alert-success\">\n",
    "<b>Q1: </b> Score distributions\n",
    "<ul>\n",
    "  <li>Plot the genuine and impostor score distributions in a single plot.</li>\n",
    "  <li>Do you need to normalize the distributions? Why (not)?</li>\n",
    "  <li>Describe qualitatively this combined plot (hint: limit the score range for better understanding)</li>\n",
    "</ul>  \n",
    "</div>"
   ]
  },
  {
   "cell_type": "code",
   "execution_count": 163,
   "metadata": {
    "jupyter": {
     "outputs_hidden": true
    }
   },
   "outputs": [
    {
     "data": {
      "text/plain": [
       "Text(0, 0.5, 'Probability')"
      ]
     },
     "execution_count": 163,
     "metadata": {},
     "output_type": "execute_result"
    },
    {
     "data": {
      "image/png": "[encoded data removed]",
      "text/plain": [
       "<Figure size 1080x360 with 2 Axes>"
      ]
     },
     "metadata": {
      "needs_background": "light"
     },
     "output_type": "display_data"
    }
   ],
   "source": [
    "\"\"\"Plot the genuine and imposter score distributions.\"\"\"\n",
    "#genuine scores are the score where genuine_id == 1\n",
    "#impostor scores are the score where impostor_id == 1\n",
    "\n",
    "li_genuine_scores = df.loc[df['li_genuine_id'] == 1, 'li_scores']\n",
    "li_impostor_scores = df.loc[df['li_genuine_id'] == 0, 'li_scores']\n",
    "ri_genuine_scores = df.loc[df['ri_genuine_id'] == 1, 'ri_scores']\n",
    "ri_impostor_scores = df.loc[df['ri_genuine_id'] == 0, 'ri_scores']\n",
    "\n",
    "###############################\n",
    "####TO COMPLETE################\n",
    "###############################\n",
    "\n",
    "\n",
    "fig, axis = plt.subplots(1,2,figsize=(15,5))\n",
    "bins = np.linspace(0, 1, 150)\n",
    "\n",
    "\n",
    "\"\"\"\n",
    "LEFT FINGER\n",
    "\"\"\"\n",
    "\n",
    "axis[0].hist(li_genuine_scores,color='g',density=True,alpha=0.5,bins = bins,label = \"genuine\") \n",
    "axis[0].hist(li_impostor_scores, color='b',density=True,alpha=0.5,bins = bins,label = \"score\") \n",
    "axis[0].title.set_text(\"Probability distributions of the scores - Left\") \n",
    "axis[0].set_xlabel('Score')\n",
    "axis[0].set_ylabel('Probability')\n",
    "\n",
    "\"\"\"\n",
    "RIGHT FINGER\n",
    "\"\"\"\n",
    "axis[1].hist(ri_genuine_scores,color='g',density=True,alpha=0.5,bins = bins,label = \"genuine\") \n",
    "axis[1].hist(ri_impostor_scores, color='b',density=True,alpha=0.5,bins = bins,label = \"score\") \n",
    "axis[1].title.set_text(\"Probability distributions of the scores - Right\") \n",
    "axis[1].set_xlabel('Score')\n",
    "axis[1].set_ylabel('Probability')"
   ]
  },
  {
   "cell_type": "markdown",
   "metadata": {},
   "source": [
    "#### 2. FMR, FRR and Receiver Operating Characteristic (ROC) curve\n",
    "\n",
    "The 'false accept' and 'false reject' regions in the illustration above are quantified using the False Match/Acceptance Rates (FMR/FAR) and False Non-Match/Rejections Rates (FNMR/FRR). The FMR and FNMR can easily be computed given the previously calculated probability distributions and a threshold value $\\eta$. Practically this boils down to a counting problem, having $\\mathcal{I}$ the indicator function (return 1 if x is true, else 0) we can compute:\n",
    "$$\n",
    "FMR(\\eta) = p(s \\geq \\eta | I) \\approx \\frac{1}{|I|} \\sum_{s \\in I} \\mathcal{I}(s \\geq \\eta),\n",
    "$$\n",
    "$$\n",
    "FRR(\\eta) = p(s < \\eta | G) \\approx \\frac{1}{|G|} \\sum_{s \\in G} \\mathcal{I}(s < \\eta).\n",
    "$$\n",
    "\n",
    "We can also compute the Genuine Acceptance Rate (GAR)/True Match Rate (TMR) as:\n",
    "$$\n",
    "GAR(\\eta) = p(s \\geq \\eta | G) = 1 - FRR(\\eta).\n",
    "$$\n",
    "\n",
    "Note that choosing a threshold is always a tradeof between FMR and FNMR. <br>\n",
    "<img src=\"img/FAR_FRR.png\" width=\"300\" height=\"auto\" align=\"center\"/>\n",
    "\n",
    "To observe the impact of the threshold value, one often plots a [Receiver Operating Characteristic (ROC)](https://en.wikipedia.org/wiki/Receiver_operating_characteristic) curve. Usually in these curves the GAR/TMR is plotted against the FMR for different decision threshold values $\\eta$. For those familiar with binary classification systems outside of the biometrics literature; the GAR/TMR is often referred to as the True Positive Rate (TPR), sensitivity or recall and FMR is also known as the False Positive Rate (FPR) or the False Accept Rate (FAR). \n",
    "\n",
    "<img src=\"img/ROC.png\" width=\"700\" height=\"auto\" align=\"center\"/>"
   ]
  },
  {
   "cell_type": "markdown",
   "metadata": {},
   "source": [
    "<div class=\"alert alert-block alert-success\">\n",
    "<b>Q2: </b> ROC Curves\n",
    "<ul>\n",
    "    <li>Calculate FPR, TPR from the matching scores.</li>\n",
    "    <li>Plot FAR and FRR as a function of matching scores.</li>\n",
    "    <li>Plot the ROC curve. Plot for linear and logarithmic scale if needed. What do you observe?</li>\n",
    "    <li>Plot the Detection Error Trade-off (DET) curve. How does it compare to ROC?</li>\n",
    "</ul>  \n",
    "</div>\n",
    "\n",
    "\n",
    "<div class=\"alert alert-block alert-info\">\n",
    "<b>Tip:</b> \n",
    "We highly recommend you use the <a href=\"https://scikit-learn.org/stable/index.html\">scikit-learn</a> package, it contains standard and advanced routines for machine learning, including classificaton and validation algorithms.\n",
    "</div>"
   ]
  },
  {
   "cell_type": "code",
   "execution_count": 116,
   "metadata": {},
   "outputs": [],
   "source": [
    "\n",
    "\"\"\"Calculate FPR, TPR from the matching scores \"\"\"\n",
    "\n",
    "#we will use the sklearn.metrics.det_curve function\n",
    "#that returns fpr, fnrn and thresholds\n",
    "#it is a function that test different values of threshold\n",
    "#and compute fpr and fnr at each of these threshold\n",
    "\n",
    "\n",
    "\"\"\"\n",
    "LEFT INDEX\n",
    "\n",
    "\"\"\"\n",
    "\n",
    "y_score_li  = df['li_scores']\n",
    "y_true_li = df['li_genuine_id']\n",
    "fpr_li, fnr_li, thresholds_li = metrics.det_curve(y_true_li, y_score_li)\n",
    "tpr_li = 1 - fnr_li \n",
    "\n",
    "\"\"\"\n",
    "RIGHT INDEX\n",
    "\n",
    "\"\"\"\n",
    "\n",
    "y_score_ri  = df['ri_scores']\n",
    "y_true_ri = df['ri_genuine_id']\n",
    "fpr_ri, fnr_ri, thresholds_ri = metrics.det_curve(y_true_ri, y_score_ri)\n",
    "tpr_ri = 1 - fnr_ri \n"
   ]
  },
  {
   "cell_type": "markdown",
   "metadata": {},
   "source": [
    "Let's alsos see if we can compute the FPR and TPR from scratch :\n",
    "\n",
    "(we will not use these functions in the notebook) "
   ]
  },
  {
   "cell_type": "code",
   "execution_count": 117,
   "metadata": {
    "jupyter": {
     "outputs_hidden": true
    }
   },
   "outputs": [
    {
     "name": "stdout",
     "output_type": "stream",
     "text": [
      "0.0003873873873873874 0.00025925925925925926 0.784 0.841\n"
     ]
    }
   ],
   "source": [
    "\"\"\"Calculate FPR, TPR from the matching scores, from SCRATCH, with a fixed threshold \"\"\"\n",
    "\n",
    "def computeFPR(id_name, id_value, score,threshold=0.1):\n",
    "    \n",
    "    #FPR = (false positive)/(sum of false positive and true negative)\n",
    "    #false positive = score > threshold  AND genuine_id= 0\n",
    "    #true negative = score < threshold  AND genuine_id= 0\n",
    "    \n",
    "    false_positive =  df.loc[(df[id_name] == id_value) & (df[score] > threshold), score]\n",
    "    false_positive_count = false_positive.shape[0]\n",
    "    true_negative =  df.loc[(df[id_name] == id_value) & (df[score] < threshold), score]\n",
    "    true_negative_count = true_negative.shape[0]\n",
    "    \n",
    "    FPR = false_positive_count / (false_positive_count  + true_negative_count)\n",
    "    \n",
    "    return FPR\n",
    "\n",
    "def computeTPR(id_name, id_value, score,threshold=0.1):\n",
    "    \n",
    "    #TPR = (false negative)/(sum of true positive and false negative)\n",
    "    #false positive = score > threshold  AND genuine_id= 0\n",
    "    #true negative = score < threshold  AND genuine_id= 0\n",
    "    \n",
    "    false_negative =  df.loc[(df[id_name] == id_value) & (df[score] < threshold), score]\n",
    "    false_negative_count = false_negative.shape[0]\n",
    "    true_positive =  df.loc[(df[id_name] == id_value) & (df[score] > threshold), score]\n",
    "    true_positive_count = true_positive.shape[0]\n",
    "    \n",
    "    TPR = false_negative_count / (false_negative_count  + true_positive_count)\n",
    "    \n",
    "    return TPR\n",
    "\n",
    "li_FPR = computeFPR('li_genuine_id', 0, 'li_scores',threshold=0.1)   \n",
    "ri_FPR = computeFPR('ri_genuine_id', 0, 'ri_scores',threshold=0.1)  \n",
    "\n",
    "li_TPR = computeFPR('li_genuine_id', 1, 'li_scores',threshold=0.1)   \n",
    "ri_TPR = computeFPR('ri_genuine_id', 1, 'ri_scores',threshold=0.1)  \n",
    "\n",
    "print(li_FPR,ri_FPR,li_TPR,ri_TPR)"
   ]
  },
  {
   "cell_type": "code",
   "execution_count": 118,
   "metadata": {
    "jupyter": {
     "outputs_hidden": true
    }
   },
   "outputs": [
    {
     "data": {
      "image/png": "[encoded data removed]",
      "text/plain": [
       "<Figure size 1080x360 with 2 Axes>"
      ]
     },
     "metadata": {
      "needs_background": "light"
     },
     "output_type": "display_data"
    }
   ],
   "source": [
    "\"\"\"Plot FAR and FRR as a function of the decision threshold.\"\"\"\n",
    "# FAR <=> FPR\n",
    "# FRR <=> FNR <=> FN/P <=> 1-TPR\n",
    "\n",
    "\n",
    "\n",
    "fig, axis = plt.subplots(1,2,figsize=(15,5))\n",
    "\n",
    "\"\"\"\n",
    "LEFT FINGER\n",
    "\"\"\"\n",
    "\n",
    "axis[0].plot(thresholds_li,fpr_li,label=\"FPR rate\") \n",
    "axis[0].plot(thresholds_li,fnr_li,label=\"FNR rate\") \n",
    "axis[0].title.set_text(\"FPR and FNR rates for varying threshold - Left\") \n",
    "axis[0].legend()\n",
    "axis[0].set_xlabel('Threshold')\n",
    "axis[0].set_ylabel('Rate')\n",
    "\n",
    "\"\"\"\n",
    "RIGHT FINGER\n",
    "\"\"\"\n",
    "\n",
    "axis[1].plot(thresholds_ri,fpr_ri,label=\"FPR rate\") \n",
    "axis[1].plot(thresholds_ri,fnr_ri,label=\"FNR rate\") \n",
    "axis[1].title.set_text(\"FPR and FNR rates for varying threshold - Right\") \n",
    "axis[1].legend()\n",
    "axis[1].set_xlabel('Threshold')\n",
    "axis[1].set_ylabel('Rate')\n",
    "\n",
    "\n",
    "plt.show()"
   ]
  },
  {
   "cell_type": "code",
   "execution_count": 119,
   "metadata": {
    "jupyter": {
     "outputs_hidden": true
    }
   },
   "outputs": [
    {
     "data": {
      "image/png": "[encoded data removed]",
      "text/plain": [
       "<Figure size 1080x360 with 2 Axes>"
      ]
     },
     "metadata": {
      "needs_background": "light"
     },
     "output_type": "display_data"
    }
   ],
   "source": [
    "\"\"\"plot the ROC curve (TPR against the FPR for different threshold values)\"\"\"\n",
    "\n",
    "\n",
    "\n",
    "fig, axis = plt.subplots(1,2,figsize=(15,5))\n",
    "\n",
    "\"\"\"\n",
    "LEFT FINGER\n",
    "\"\"\"\n",
    "\n",
    "roc_li = metrics.RocCurveDisplay(fpr=fpr_li,tpr=tpr_li)\n",
    "roc_li.plot(ax=axis[0])\n",
    "axis[0].title.set_text(\"ROC curve - Left\") \n",
    "axis[0].set_xlabel('False Positive Rate')\n",
    "axis[0].set_ylabel('True Positive Rate')\n",
    "\n",
    "\"\"\"\n",
    "RIGHT FINGER\n",
    "\"\"\"\n",
    "\n",
    "roc_ri = metrics.RocCurveDisplay(fpr=fpr_ri,tpr=tpr_ri)\n",
    "roc_ri.plot(ax=axis[1])\n",
    "axis[1].title.set_text(\"ROC curve - Right\") \n",
    "axis[1].set_xlabel('False Positive Rate')\n",
    "axis[1].set_ylabel('True Positive Rate')\n",
    "\n",
    "\n",
    "\n",
    "plt.show()"
   ]
  },
  {
   "cell_type": "code",
   "execution_count": 120,
   "metadata": {
    "jupyter": {
     "outputs_hidden": true
    }
   },
   "outputs": [
    {
     "data": {
      "image/png": "[encoded data removed]",
      "text/plain": [
       "<Figure size 1080x360 with 2 Axes>"
      ]
     },
     "metadata": {
      "needs_background": "light"
     },
     "output_type": "display_data"
    }
   ],
   "source": [
    "\"\"\"plot the DET curve (FRR (=1-tpr) against the FAR for different threshold values)\"\"\"\n",
    "\n",
    "# FAR <=> FPR\n",
    "# FRR <=> FNR <=> FN/P <=> 1-TPR\n",
    "\n",
    "\n",
    "\n",
    "\n",
    "fig, axis = plt.subplots(1,2,figsize=(15,5))\n",
    "\n",
    "\"\"\"\n",
    "LEFT FINGER\n",
    "\"\"\"\n",
    "\n",
    "det_li = metrics.DetCurveDisplay(fpr=fpr_li,fnr=fnr_li)\n",
    "det_li.plot(ax=axis[0])\n",
    "axis[0].title.set_text(\"DET curve - Left\") \n",
    "axis[0].set_xlabel('False Positive Rate')\n",
    "axis[0].set_ylabel('Fale Negative Rate')\n",
    "\n",
    "\"\"\"\n",
    "RIGHT FINGER\n",
    "\"\"\"\n",
    "\n",
    "det_ri = metrics.DetCurveDisplay(fpr=fpr_ri,fnr=fnr_ri)\n",
    "det_ri.plot(ax=axis[1])\n",
    "axis[1].title.set_text(\"DET curve - Right\") \n",
    "axis[1].set_xlabel('False Positive Rate')\n",
    "axis[1].set_ylabel('False Negative Rate')\n",
    "\n",
    "\n",
    "plt.show()"
   ]
  },
  {
   "cell_type": "markdown",
   "metadata": {},
   "source": [
    "#### 3. F1 and accuracy as metrics\n",
    "\n",
    "While biometric systems are, traditionally, evaluated using FMR and FRR and ROC/DET curves, we can also have a look at traditional [classification metrics](https://scikit-learn.org/stable/modules/model_evaluation.html#classification-metrics) such as classification accuracy (or error) and F1 measure. "
   ]
  },
  {
   "cell_type": "markdown",
   "metadata": {},
   "source": [
    "<div class=\"alert alert-block alert-success\">\n",
    "<b>Q3: </b> Classification Metrics\n",
    "<ul>\n",
    "    <li>Plot F1 and accuracy as a function of the decision thresholds on the similarity score.</li>\n",
    "    <li>Calculate the threshold and accuracy for which F1 is maximal. Is it an interesting operating point?</li>\n",
    "    <li>Do the same for the classification error (accuracy). Is there a difference?</li>\n",
    "    <li>Is accuracy a good performance metric in this case?</li>\n",
    "</ul>  \n",
    "</div>\n",
    "\n",
    "<div class=\"alert alert-block alert-info\">\n",
    "<b>Tip:</b> \n",
    "We highly recommend you use the <a href=\"https://scikit-learn.org/stable/modules/model_evaluation.html#classification-metrics\">scikit-learn classification metrics</a> to assist.\n",
    "</div>\n"
   ]
  },
  {
   "cell_type": "code",
   "execution_count": 121,
   "metadata": {},
   "outputs": [],
   "source": [
    "\"\"\"function to compute the accuracy\"\"\"\n",
    "\n",
    "\n",
    "#we know that accuracy = (TP + TN / whole data) = TP + TN + FP + FN)\n",
    "\n",
    "def compute_accuracy(df,id_name,thresholds, score):\n",
    "    accuracies = []\n",
    "    number_of_samples = df.shape[0]\n",
    "    for tresh in thresholds:\n",
    "        true_positive =  df.loc[(df[id_name] == 1) & (df[score] > tresh), score]\n",
    "        true_positive_count = true_positive.shape[0]\n",
    "        true_negative =  df.loc[(df[id_name] == 0) & (df[score] < tresh), score]\n",
    "        true_negative_count = true_negative.shape[0]\n",
    "        accuracy = (true_positive_count+true_negative_count)/number_of_samples\n",
    "        accuracies.append(accuracy)\n",
    "    return accuracies"
   ]
  },
  {
   "cell_type": "code",
   "execution_count": 122,
   "metadata": {
    "tags": []
   },
   "outputs": [
    {
     "data": {
      "text/plain": [
       "Text(0, 0.5, 'Accuracy and F1-scores')"
      ]
     },
     "execution_count": 122,
     "metadata": {},
     "output_type": "execute_result"
    },
    {
     "data": {
      "image/png": "[encoded data removed]",
      "text/plain": [
       "<Figure size 1080x360 with 2 Axes>"
      ]
     },
     "metadata": {
      "needs_background": "light"
     },
     "output_type": "display_data"
    }
   ],
   "source": [
    "\"\"\"Plot F1 and accuracy as a function of the decision thresholds on the similarity score.\"\"\"\n",
    "# Hint: evaluating for ± 50 threshold values should suffice\n",
    "\n",
    "#metrics has the function f1_score but it takes too much time to run\n",
    "#let's deduce f1_score from precision and recall instead \n",
    "\n",
    "fig, axis = plt.subplots(1,2,figsize=(15,5))\n",
    "\n",
    "\"\"\"\n",
    "LEFT FINGER\n",
    "\"\"\"\n",
    "precision_li, recall_li, PR_thresholds_li = metrics.precision_recall_curve(y_true_li,y_score_li)\n",
    "#thresholds has a value less than precision and recall when using precision_recall_curve (bug ?)\n",
    "#so, let's remove one value from precision and recall\n",
    "precision_li, recall_li = precision_li[:-1], recall_li[:-1]\n",
    "f1_score_li = 2 *(precision_li*recall_li)/(precision_li+recall_li)\n",
    "\n",
    "accuracies_li = compute_accuracy(df,'li_genuine_id',PR_thresholds_li,'li_scores')\n",
    "\n",
    "axis[0].plot(PR_thresholds_li,accuracies_li,label=\"Accuracy\") \n",
    "axis[0].plot(PR_thresholds_li,f1_score_li,label=\"F1_score\") \n",
    "axis[0].title.set_text(\"Accuracy and F1-scores for varying threshold - Left\") \n",
    "axis[0].legend()\n",
    "axis[0].set_xlabel('Threshold')\n",
    "axis[0].set_ylabel('Accuracy and F1-scores')\n",
    "\"\"\"\n",
    "RIGHT FINGER\n",
    "\"\"\"\n",
    "precision_ri, recall_ri, PR_thresholds_ri = metrics.precision_recall_curve(y_true_ri,y_score_ri)\n",
    "#thresholds has a value less than precision and recall when using precision_recall_curve (bug ?)\n",
    "#so, let's remove one value from precision and recall\n",
    "precision_ri, recall_ri = precision_ri[:-1], recall_ri[:-1]\n",
    "f1_score_ri = 2 *(precision_ri*recall_ri)/(precision_ri+recall_ri)\n",
    "\n",
    "accuracies_ri = compute_accuracy(df,'ri_genuine_id',PR_thresholds_ri,'ri_scores')\n",
    "\n",
    "axis[1].plot(PR_thresholds_ri,accuracies_ri,label=\"Accuracy\") \n",
    "axis[1].plot(PR_thresholds_ri,f1_score_ri,label=\"F1_score\") \n",
    "axis[1].title.set_text(\"Accuracy and F1-scores for varying threshold - Right\") \n",
    "axis[1].legend()\n",
    "axis[1].set_xlabel('Threshold')\n",
    "axis[1].set_ylabel('Accuracy and F1-scores')\n",
    "\n"
   ]
  },
  {
   "cell_type": "code",
   "execution_count": 165,
   "metadata": {
    "tags": []
   },
   "outputs": [
    {
     "name": "stdout",
     "output_type": "stream",
     "text": [
      "+--------------+-------------------------+------------------+\n",
      "|              | Corresponding Threshold | Maximum f1-score |\n",
      "+--------------+-------------------------+------------------+\n",
      "| Left Finger  |          0.126          |      0.821       |\n",
      "+--------------+-------------------------+------------------+\n",
      "| Right Finger |          0.122          |      0.873       |\n",
      "+--------------+-------------------------+------------------+\n"
     ]
    }
   ],
   "source": [
    "\"\"\"Calculate the threshold for which F1 is maximal.\"\"\"\n",
    "\n",
    "\n",
    "\"\"\"\n",
    "LEFT FINGER\n",
    "\"\"\"\n",
    "\n",
    "\n",
    "\n",
    "#create dataframe of f1 score \n",
    "f1_df_li = pd.DataFrame([f1_score_li,PR_thresholds_li],index=[\"f1_score_li\",\"thresholds_li\"]).transpose()\n",
    "#find maximum row \n",
    "max_row_li = f1_df_li['f1_score_li'].idxmax()\n",
    "#find corresponding threshold \n",
    "f1_max_threshold_li = f1_df_li[\"thresholds_li\"][max_row_li]\n",
    "#and corresponding f1 score\n",
    "f1_max_score_li = f1_df_li[\"f1_score_li\"][max_row_li]\n",
    "\n",
    "\"\"\"\n",
    "RIGHT FINGER\n",
    "\"\"\"\n",
    "\n",
    "#create dataframe of f1 score \n",
    "f1_df_ri = pd.DataFrame([f1_score_ri,PR_thresholds_ri],index=[\"f1_score_ri\",\"thresholds_ri\"]).transpose()\n",
    "#find maximum row \n",
    "max_row_ri = f1_df_ri['f1_score_ri'].idxmax()\n",
    "#find corresponding threshold \n",
    "f1_max_threshold_ri = f1_df_ri[\"thresholds_ri\"][max_row_ri]\n",
    "#and corresponding f1 score\n",
    "f1_max_score_ri = f1_df_ri[\"f1_score_ri\"][max_row_ri]\n",
    "\n",
    "\n",
    "table = BeautifulTable()\n",
    "table.rows.append([f1_max_threshold_li, f1_max_score_li])\n",
    "table.rows.append([f1_max_threshold_ri, f1_max_score_ri])\n",
    "table.rows.header = [\"Left Finger\", \"Right Finger\"]\n",
    "table.columns.header = [\"Corresponding Threshold\", \"Maximum f1-score\"]\n",
    "print(table)\n"
   ]
  },
  {
   "cell_type": "code",
   "execution_count": 124,
   "metadata": {
    "jupyter": {
     "outputs_hidden": true
    }
   },
   "outputs": [
    {
     "name": "stdout",
     "output_type": "stream",
     "text": [
      "+--------------+-------------------------+------------------+\n",
      "|              | Corresponding Threshold | Maximum accuracy |\n",
      "+--------------+-------------------------+------------------+\n",
      "| Left Finger  |          0.134          |       1.0        |\n",
      "+--------------+-------------------------+------------------+\n",
      "| Right Finger |          0.122          |       1.0        |\n",
      "+--------------+-------------------------+------------------+\n"
     ]
    }
   ],
   "source": [
    "\"\"\"Do the same for the classification error (or accuracy)\"\"\"\n",
    "\n",
    "\"\"\"Calculate the threshold for which accuracy is maximal.\"\"\"\n",
    "\n",
    "\n",
    "\"\"\"\n",
    "LEFT FINGER\n",
    "\"\"\"\n",
    "\n",
    "\n",
    "\n",
    "#create dataframe of accuracy \n",
    "accuracies_df_li = pd.DataFrame([accuracies_li,thresholds_li],index=[\"accuracies_li\",\"thresholds_li\"]).transpose()\n",
    "#find maximum row \n",
    "max_row_accuracies_df_li = accuracies_df_li['accuracies_li'].idxmax()\n",
    "#find corresponding threshold \n",
    "max_threshold_accuracies_df_li = accuracies_df_li[\"thresholds_li\"][max_row_accuracies_df_li]\n",
    "#find corresponding max accuracy\n",
    "max_accuracy_df_li = accuracies_df_li[\"accuracies_li\"][max_row_accuracies_df_li]\n",
    "\n",
    "\"\"\"\n",
    "RIGHT FINGER\n",
    "\"\"\"\n",
    "\n",
    "#create dataframe of accuracy \n",
    "accuracies_df_ri = pd.DataFrame([accuracies_ri,thresholds_ri],index=[\"accuracies_ri\",\"thresholds_ri\"]).transpose()\n",
    "#find maximum row \n",
    "max_row_accuracies_df_ri = accuracies_df_ri['accuracies_ri'].idxmax()\n",
    "#find corresponding threshold \n",
    "max_threshold_accuracies_df_ri = accuracies_df_ri[\"thresholds_ri\"][max_row_accuracies_df_ri]\n",
    "#find corresponding max accuracy\n",
    "max_accuracy_df_ri = accuracies_df_ri[\"accuracies_ri\"][max_row_accuracies_df_ri]\n",
    "\n",
    "\n",
    "table = BeautifulTable()\n",
    "table.rows.append([max_threshold_accuracies_df_li, max_accuracy_df_li])\n",
    "table.rows.append([max_threshold_accuracies_df_ri, max_accuracy_df_ri])\n",
    "table.rows.header = [\"Left Finger\", \"Right Finger\"]\n",
    "table.columns.header = [\"Corresponding Threshold\", \"Maximum accuracy\"]\n",
    "print(table)"
   ]
  },
  {
   "cell_type": "markdown",
   "metadata": {},
   "source": [
    "#### 4. AUC and EER as summary measures\n",
    "\n",
    "The overall performance (over all threshold settings) is typically expressed through:\n",
    "\n",
    "* The Area Under the Curve (AUC) (with TPR((y-axis) vs FPR (x-axis))\n",
    "\n",
    "<img src=\"img/AUC.png\" width=\"250\" height=\"auto\"/>\n",
    "\n",
    "The AUC can be used to compare different systems. The larger this number, the better.\n",
    "However, since it is a summary measure, always inspect the full ROC curve to make decisions about performance given operating conditions (in wich FRR, FAR regime to work e.g.).\n",
    "\n",
    "* The Equal Error Rate (EER), which is the point on the ROC-curve where FAR(FMR) equals FRR (1-TAR). A lower EER value indicates better performance. \n",
    "\n",
    "<img src=\"img/EER.png\" width=\"300\" height=\"300\"/>"
   ]
  },
  {
   "cell_type": "markdown",
   "metadata": {},
   "source": [
    "<div class=\"alert alert-block alert-success\">\n",
    "<b>Q4: </b> AUC, EER and alternatives\n",
    "<ul>\n",
    "    <li>Calculate ROC AUC. Is this a good metric? What does it reveal about the system? </li>\n",
    "    <li>Calculate (by approximation) the EER and plot it on the FAR-FRR curve. Is this a good peration point?</li>\n",
    "    <li>Calculate the decision threshold for which the sum of FRR and FAR is minimal. Is this point similar to the total classification error?</li> \n",
    "    <li>Can you suggest other strategies that give you an \"optimal\" performance? Calculate and discuss their (de)merits.</li>\n",
    "</ul>  \n",
    "</div>\n"
   ]
  },
  {
   "cell_type": "code",
   "execution_count": 125,
   "metadata": {
    "jupyter": {
     "outputs_hidden": true
    }
   },
   "outputs": [
    {
     "name": "stdout",
     "output_type": "stream",
     "text": [
      "+--------------+---------+\n",
      "|              | ROC AUC |\n",
      "+--------------+---------+\n",
      "| Left Finger  |  0.971  |\n",
      "+--------------+---------+\n",
      "| Right Finger |  0.983  |\n",
      "+--------------+---------+\n"
     ]
    }
   ],
   "source": [
    "\"\"\"Calculate the ROC AUC.\"\"\"\n",
    "#the function metrics.auc(y_true, y_score) allows us to compute the ROC AUC, based on the fpr vector and the tpr vector \n",
    "ROC_AUC_li = metrics.roc_auc_score(y_true_li, y_score_li)\n",
    "ROC_AUC_ri = metrics.roc_auc_score(y_true_ri, y_score_ri)\n",
    "\n",
    "table = BeautifulTable()\n",
    "table.rows.append([ROC_AUC_li])\n",
    "table.rows.append([ROC_AUC_ri])\n",
    "table.rows.header = [\"Left Finger\", \"Right Finger\"]\n",
    "table.columns.header = [\"ROC AUC\"]\n",
    "print(table)\n"
   ]
  },
  {
   "cell_type": "code",
   "execution_count": 145,
   "metadata": {
    "jupyter": {
     "outputs_hidden": true
    }
   },
   "outputs": [
    {
     "name": "stdout",
     "output_type": "stream",
     "text": [
      "     fpr_li  fnr_li  thresholds_li\n",
      "8  0.077935   0.079       0.045802\n",
      "     fpr_ri  fnr_ri  thresholds_ri\n",
      "9  0.054403   0.056       0.045455\n"
     ]
    },
    {
     "data": {
      "text/plain": [
       "Text(0, 0.5, 'FRR')"
      ]
     },
     "execution_count": 145,
     "metadata": {},
     "output_type": "execute_result"
    },
    {
     "data": {
      "image/png": "[encoded data removed]",
      "text/plain": [
       "<Figure size 1080x360 with 2 Axes>"
      ]
     },
     "metadata": {
      "needs_background": "light"
     },
     "output_type": "display_data"
    }
   ],
   "source": [
    "\"\"\"Calculate (by approximation) the EER and plot it on the FAR-FRR curve.\"\"\"\n",
    "# hints:\n",
    "#  - avoid using a library that directly computes the EER for this assignment \n",
    "\n",
    "#EER is at the threshold where FAR (False acceptance rate, or FPR) = FRR (false rejection rate, or FNR)\n",
    "\n",
    "fig, axis = plt.subplots(1,2,figsize=(15,5))\n",
    "\n",
    "\n",
    "\"\"\"\n",
    "LEFT FINGER\n",
    "\"\"\"\n",
    "df_to_find_EER_li = pd.DataFrame([fpr_li,fnr_li,thresholds_li],index = [\"fpr_li\",\"fnr_li\",\"thresholds_li\"]).transpose()\n",
    "#select row where fpr_li is the closest to fnr_li\n",
    "EER_row_li = df_to_find_EER_li.iloc[(df_to_find_EER_li[\"fpr_li\"]-df_to_find_EER_li[\"fnr_li\"]).abs().argsort()[:1]]\n",
    "print(EER_row_li)\n",
    "\n",
    "#plot the FAR-FRR curve :\n",
    "axis[0].plot(fpr_li,fnr_li)\n",
    "#Plot a diagonal line : indeed, everywhere on this line, FAR = FRR ! \n",
    "axis[0].plot([0, 1], [0, 1], transform=axis[0].transAxes)\n",
    "axis[0].title.set_text(\"FAR-FRR curve, with ERR (intersection with line) - Left\") \n",
    "axis[0].set_xlabel('FAR')\n",
    "axis[0].set_ylabel('FRR')\n",
    "\n",
    "\n",
    "\"\"\"\n",
    "RIGHT FINGER\n",
    "\"\"\"\n",
    "df_to_find_EER_ri = pd.DataFrame([fpr_ri,fnr_ri,thresholds_ri],index = [\"fpr_ri\",\"fnr_ri\",\"thresholds_ri\"]).transpose()\n",
    "#select row where fpr_ri is the closest to fnr_ri\n",
    "EER_row_ri = df_to_find_EER_ri.iloc[(df_to_find_EER_ri[\"fpr_ri\"]-df_to_find_EER_ri[\"fnr_ri\"]).abs().argsort()[:1]]\n",
    "print(EER_row_ri)\n",
    "\n",
    "#plot the FAR-FRR curve :\n",
    "axis[1].plot(fpr_ri,fnr_ri)\n",
    "#Plot a diagonal line : indeed, everywhere on this line, FAR = FRR ! \n",
    "axis[1].plot([0, 1], [0, 1], transform=axis[1].transAxes)\n",
    "axis[1].title.set_text(\"FAR-FRR curve, with ERR (intersection with line) - Right\") \n",
    "axis[1].set_xlabel('FAR')\n",
    "axis[1].set_ylabel('FRR')\n",
    "\n",
    "\n",
    "\n",
    "\n",
    "\n",
    "\n",
    "\n"
   ]
  },
  {
   "cell_type": "markdown",
   "metadata": {},
   "source": [
    "#### 5. Evaluation using Precision and Recall\n",
    "\n",
    "[1]: <https://link.springer.com/book/10.1007/978-0-387-77326-1> ('Introduction to Biometrics' by AK Jain et al)\n",
    "[2]: <https://machinelearningmastery.com/roc-curves-and-precision-recall-curves-for-classification-in-python/> (How and When to Use ROC Curves and Precision-Recall Curves for Classification in Python)\n",
    "[3]: <https://en.wikipedia.org/w/index.php?title=Information_retrieval&oldid=793358396#Average_precision> (Average precision)\n",
    "\n",
    "In a general binary classification setting, one also often presents Precision-Recall curves. PR-curves are sometimes summarized using the [average precision scores][3]. How and when to use ROC or PRC is discussed [here][2]. A more general discussion of these measures is provided [here](https://towardsdatascience.com/beyond-accuracy-precision-and-recall-3da06bea9f6c).  \n",
    "\n",
    "Scikit-Learn provides routines for calculating these curves and numbers as demonstrated in the code below from this [link][2], it also provides an implementation of the [average precision scores](https://scikit-learn.org/stable/modules/generated/sklearn.metrics.average_precision_score.html#sklearn.metrics.average_precision_score).\n"
   ]
  },
  {
   "cell_type": "markdown",
   "metadata": {},
   "source": [
    "<div class=\"alert alert-block alert-success\">\n",
    "<b>Q5: </b> Precision-Recall curves and related summary measures\n",
    "<ul>\n",
    "    <li>Calculate and plot the Precision-Recall curve for this system. What does it reveal about the performance of the system?</li>\n",
    "    <li>Calculate the Area Under the PR-curve. Discuss.</li>\n",
    "    <li>Calculate the average precision scores. Discuss its value.</li> \n",
    "</ul>  \n",
    "</div>\n"
   ]
  },
  {
   "cell_type": "code",
   "execution_count": 105,
   "metadata": {
    "jupyter": {
     "outputs_hidden": true
    }
   },
   "outputs": [
    {
     "data": {
      "text/plain": [
       "Text(0, 0.5, 'Precision')"
      ]
     },
     "execution_count": 105,
     "metadata": {},
     "output_type": "execute_result"
    },
    {
     "data": {
      "image/png": "[encoded data removed]",
      "text/plain": [
       "<Figure size 1080x360 with 2 Axes>"
      ]
     },
     "metadata": {
      "needs_background": "light"
     },
     "output_type": "display_data"
    }
   ],
   "source": [
    "\"\"\"Calculate and plot the Precision-Recall curve for this system\"\"\"\n",
    "\n",
    "fig, axis = plt.subplots(1,2,figsize=(15,5))\n",
    "\n",
    "\"\"\"\n",
    "LEFT FINGER\n",
    "\"\"\"\n",
    "PR_precision_li, PR_recall_li, PR_thresholds_li = metrics.precision_recall_curve(y_true_li,y_score_li)\n",
    "\n",
    "axis[0].plot(PR_recall_li,PR_precision_li) \n",
    "axis[0].title.set_text(\"Precision Recall Curve - Left\") \n",
    "axis[0].set_xlabel('Recall')\n",
    "axis[0].set_ylabel('Precision')\n",
    "\n",
    "\"\"\"\n",
    "RIGHT FINGER\n",
    "\"\"\"\n",
    "PR_precision_ri, PR_recall_ri, PR_thresholds_ri = metrics.precision_recall_curve(y_true_ri,y_score_ri)\n",
    "\n",
    "axis[1].plot(PR_recall_ri,PR_precision_ri) \n",
    "axis[1].title.set_text(\"Precision Recall Curve - Right\") \n",
    "axis[1].set_xlabel('Recall')\n",
    "axis[1].set_ylabel('Precision')"
   ]
  },
  {
   "cell_type": "code",
   "execution_count": 107,
   "metadata": {
    "jupyter": {
     "outputs_hidden": true
    }
   },
   "outputs": [
    {
     "name": "stdout",
     "output_type": "stream",
     "text": [
      "+--------------+--------+\n",
      "|              | PR AUC |\n",
      "+--------------+--------+\n",
      "| Left Finger  | 0.803  |\n",
      "+--------------+--------+\n",
      "| Right Finger | 0.863  |\n",
      "+--------------+--------+\n"
     ]
    }
   ],
   "source": [
    "\"\"\"Calculate the Area Under the PR-curve.\"\"\"\n",
    "# metric.auc is a function to do it \n",
    "\n",
    "PR_auc_li = metrics.auc(PR_recall_li, PR_precision_li)\n",
    "PR_auc_ri = metrics.auc(PR_recall_ri, PR_precision_ri)\n",
    "\n",
    "table = BeautifulTable()\n",
    "table.rows.append([PR_auc_li])\n",
    "table.rows.append([PR_auc_ri])\n",
    "table.rows.header = [\"Left Finger\", \"Right Finger\"]\n",
    "table.columns.header = [\"PR AUC\"]\n",
    "print(table)"
   ]
  },
  {
   "cell_type": "code",
   "execution_count": 109,
   "metadata": {
    "jupyter": {
     "outputs_hidden": true
    }
   },
   "outputs": [
    {
     "name": "stdout",
     "output_type": "stream",
     "text": [
      "+--------------+-------------------+\n",
      "|              | Average Precision |\n",
      "+--------------+-------------------+\n",
      "| Left Finger  |       0.799       |\n",
      "+--------------+-------------------+\n",
      "| Right Finger |       0.86        |\n",
      "+--------------+-------------------+\n"
     ]
    }
   ],
   "source": [
    "\"\"\"Calculate the average precision scores\"\"\"\n",
    "\n",
    "average_precision_li = metrics.average_precision_score(y_true_li, y_score_li)\n",
    "average_precision_ri = metrics.average_precision_score(y_true_ri, y_score_ri)\n",
    "\n",
    "table = BeautifulTable()\n",
    "table.rows.append([average_precision_li])\n",
    "table.rows.append([average_precision_ri])\n",
    "table.rows.header = [\"Left Finger\", \"Right Finger\"]\n",
    "table.columns.header = [\"Average Precision\"]\n",
    "print(table)"
   ]
  },
  {
   "cell_type": "markdown",
   "metadata": {},
   "source": [
    "## III. Validation of identification system "
   ]
  },
  {
   "cell_type": "markdown",
   "metadata": {},
   "source": [
    "### Evaluation using CMC curves\n",
    "In an identification scenario one has a 1-to-many or multi-class classification problem. The performance of such a system is typically measured by the Cumulative Match Characteristic (CMC) curve. This curve plots the experimental probability that a correct identification is returned within the top-x (x=1, ..., N) ranked matching scores. \n",
    "\n",
    "<img src=\"img/CMC.jpg\" width=\"500\" height=\"auto\"/>\n",
    "\n",
    "[Bolle et al.](https://ieeexplore.ieee.org/document/1544394) show that:\n",
    "> the CMC is also related to the FAR and FRR of a 1:1 matcher, i.e., the matcher that is used to rank the candidates by sorting the scores. This has as a consequence that when a 1:1 matcher is used for identification, that is, for sorting match scores from high to low, the CMC does not offer any additional information beyond the FAR and FRR curves. The CMC is just another way of displaying the data and can be computed from the FAR and FRR.\n",
    "\n",
    "This paper is not mandatory but those interested can have a look at it.\n",
    "\n",
    "CMC curves can easily be generated once you have the ranked matching scores for every test sample. In our example we can easily calculate it from the similarity matrix (note that in this very particular case we have only one genuine pair per test sample). \n",
    "\n"
   ]
  },
  {
   "cell_type": "markdown",
   "metadata": {},
   "source": [
    "<div class=\"alert alert-block alert-success\">\n",
    "<b>Q6: </b> CMC curves\n",
    "<ul>\n",
    "    <li>Calculate the Cumulative Matching Characteristic curve (implement this yourself)</li>\n",
    "    <li>Compute the Rank-1 Recognition Rate.</li>\n",
    "</ul>  \n",
    "</div>\n"
   ]
  },
  {
   "cell_type": "code",
   "execution_count": 213,
   "metadata": {
    "jupyter": {
     "outputs_hidden": true
    }
   },
   "outputs": [
    {
     "data": {
      "text/html": [
       "<div>\n",
       "<style scoped>\n",
       "    .dataframe tbody tr th:only-of-type {\n",
       "        vertical-align: middle;\n",
       "    }\n",
       "\n",
       "    .dataframe tbody tr th {\n",
       "        vertical-align: top;\n",
       "    }\n",
       "\n",
       "    .dataframe thead th {\n",
       "        text-align: right;\n",
       "    }\n",
       "</style>\n",
       "<table border=\"1\" class=\"dataframe\">\n",
       "  <thead>\n",
       "    <tr style=\"text-align: right;\">\n",
       "      <th></th>\n",
       "      <th>11173</th>\n",
       "      <th>61011</th>\n",
       "      <th>252763</th>\n",
       "      <th>104335</th>\n",
       "      <th>120817</th>\n",
       "      <th>212803</th>\n",
       "      <th>220990</th>\n",
       "      <th>155031</th>\n",
       "      <th>07490</th>\n",
       "      <th>79831</th>\n",
       "      <th>...</th>\n",
       "      <th>120252</th>\n",
       "      <th>15178</th>\n",
       "      <th>252210</th>\n",
       "      <th>230790</th>\n",
       "      <th>55363</th>\n",
       "      <th>27997</th>\n",
       "      <th>46808</th>\n",
       "      <th>27629</th>\n",
       "      <th>258358</th>\n",
       "      <th>49868</th>\n",
       "    </tr>\n",
       "    <tr>\n",
       "      <th>subject_id</th>\n",
       "      <th></th>\n",
       "      <th></th>\n",
       "      <th></th>\n",
       "      <th></th>\n",
       "      <th></th>\n",
       "      <th></th>\n",
       "      <th></th>\n",
       "      <th></th>\n",
       "      <th></th>\n",
       "      <th></th>\n",
       "      <th></th>\n",
       "      <th></th>\n",
       "      <th></th>\n",
       "      <th></th>\n",
       "      <th></th>\n",
       "      <th></th>\n",
       "      <th></th>\n",
       "      <th></th>\n",
       "      <th></th>\n",
       "      <th></th>\n",
       "      <th></th>\n",
       "    </tr>\n",
       "  </thead>\n",
       "  <tbody>\n",
       "    <tr>\n",
       "      <th>11173</th>\n",
       "      <td>48.0</td>\n",
       "      <td>4.0</td>\n",
       "      <td>5.0</td>\n",
       "      <td>7.0</td>\n",
       "      <td>9.0</td>\n",
       "      <td>5.0</td>\n",
       "      <td>9.0</td>\n",
       "      <td>4.0</td>\n",
       "      <td>9.0</td>\n",
       "      <td>6.0</td>\n",
       "      <td>...</td>\n",
       "      <td>8.0</td>\n",
       "      <td>10.0</td>\n",
       "      <td>6.0</td>\n",
       "      <td>6.0</td>\n",
       "      <td>5.0</td>\n",
       "      <td>9.0</td>\n",
       "      <td>9.0</td>\n",
       "      <td>4.0</td>\n",
       "      <td>9.0</td>\n",
       "      <td>7.0</td>\n",
       "    </tr>\n",
       "    <tr>\n",
       "      <th>61011</th>\n",
       "      <td>5.0</td>\n",
       "      <td>71.0</td>\n",
       "      <td>6.0</td>\n",
       "      <td>7.0</td>\n",
       "      <td>10.0</td>\n",
       "      <td>5.0</td>\n",
       "      <td>4.0</td>\n",
       "      <td>4.0</td>\n",
       "      <td>6.0</td>\n",
       "      <td>5.0</td>\n",
       "      <td>...</td>\n",
       "      <td>6.0</td>\n",
       "      <td>6.0</td>\n",
       "      <td>8.0</td>\n",
       "      <td>6.0</td>\n",
       "      <td>8.0</td>\n",
       "      <td>4.0</td>\n",
       "      <td>12.0</td>\n",
       "      <td>6.0</td>\n",
       "      <td>7.0</td>\n",
       "      <td>6.0</td>\n",
       "    </tr>\n",
       "    <tr>\n",
       "      <th>252763</th>\n",
       "      <td>9.0</td>\n",
       "      <td>5.0</td>\n",
       "      <td>17.0</td>\n",
       "      <td>8.0</td>\n",
       "      <td>7.0</td>\n",
       "      <td>8.0</td>\n",
       "      <td>7.0</td>\n",
       "      <td>4.0</td>\n",
       "      <td>6.0</td>\n",
       "      <td>9.0</td>\n",
       "      <td>...</td>\n",
       "      <td>5.0</td>\n",
       "      <td>5.0</td>\n",
       "      <td>8.0</td>\n",
       "      <td>4.0</td>\n",
       "      <td>8.0</td>\n",
       "      <td>7.0</td>\n",
       "      <td>7.0</td>\n",
       "      <td>8.0</td>\n",
       "      <td>6.0</td>\n",
       "      <td>4.0</td>\n",
       "    </tr>\n",
       "    <tr>\n",
       "      <th>104335</th>\n",
       "      <td>8.0</td>\n",
       "      <td>6.0</td>\n",
       "      <td>9.0</td>\n",
       "      <td>11.0</td>\n",
       "      <td>5.0</td>\n",
       "      <td>5.0</td>\n",
       "      <td>5.0</td>\n",
       "      <td>5.0</td>\n",
       "      <td>6.0</td>\n",
       "      <td>3.0</td>\n",
       "      <td>...</td>\n",
       "      <td>7.0</td>\n",
       "      <td>8.0</td>\n",
       "      <td>5.0</td>\n",
       "      <td>11.0</td>\n",
       "      <td>6.0</td>\n",
       "      <td>4.0</td>\n",
       "      <td>5.0</td>\n",
       "      <td>11.0</td>\n",
       "      <td>5.0</td>\n",
       "      <td>4.0</td>\n",
       "    </tr>\n",
       "    <tr>\n",
       "      <th>120817</th>\n",
       "      <td>11.0</td>\n",
       "      <td>5.0</td>\n",
       "      <td>4.0</td>\n",
       "      <td>5.0</td>\n",
       "      <td>99.0</td>\n",
       "      <td>7.0</td>\n",
       "      <td>7.0</td>\n",
       "      <td>6.0</td>\n",
       "      <td>10.0</td>\n",
       "      <td>3.0</td>\n",
       "      <td>...</td>\n",
       "      <td>8.0</td>\n",
       "      <td>8.0</td>\n",
       "      <td>10.0</td>\n",
       "      <td>7.0</td>\n",
       "      <td>10.0</td>\n",
       "      <td>6.0</td>\n",
       "      <td>12.0</td>\n",
       "      <td>11.0</td>\n",
       "      <td>5.0</td>\n",
       "      <td>7.0</td>\n",
       "    </tr>\n",
       "    <tr>\n",
       "      <th>...</th>\n",
       "      <td>...</td>\n",
       "      <td>...</td>\n",
       "      <td>...</td>\n",
       "      <td>...</td>\n",
       "      <td>...</td>\n",
       "      <td>...</td>\n",
       "      <td>...</td>\n",
       "      <td>...</td>\n",
       "      <td>...</td>\n",
       "      <td>...</td>\n",
       "      <td>...</td>\n",
       "      <td>...</td>\n",
       "      <td>...</td>\n",
       "      <td>...</td>\n",
       "      <td>...</td>\n",
       "      <td>...</td>\n",
       "      <td>...</td>\n",
       "      <td>...</td>\n",
       "      <td>...</td>\n",
       "      <td>...</td>\n",
       "      <td>...</td>\n",
       "    </tr>\n",
       "    <tr>\n",
       "      <th>27997</th>\n",
       "      <td>9.0</td>\n",
       "      <td>4.0</td>\n",
       "      <td>5.0</td>\n",
       "      <td>5.0</td>\n",
       "      <td>6.0</td>\n",
       "      <td>8.0</td>\n",
       "      <td>16.0</td>\n",
       "      <td>5.0</td>\n",
       "      <td>4.0</td>\n",
       "      <td>6.0</td>\n",
       "      <td>...</td>\n",
       "      <td>11.0</td>\n",
       "      <td>7.0</td>\n",
       "      <td>6.0</td>\n",
       "      <td>4.0</td>\n",
       "      <td>10.0</td>\n",
       "      <td>36.0</td>\n",
       "      <td>6.0</td>\n",
       "      <td>8.0</td>\n",
       "      <td>12.0</td>\n",
       "      <td>4.0</td>\n",
       "    </tr>\n",
       "    <tr>\n",
       "      <th>46808</th>\n",
       "      <td>3.0</td>\n",
       "      <td>5.0</td>\n",
       "      <td>7.0</td>\n",
       "      <td>8.0</td>\n",
       "      <td>4.0</td>\n",
       "      <td>5.0</td>\n",
       "      <td>4.0</td>\n",
       "      <td>0.0</td>\n",
       "      <td>4.0</td>\n",
       "      <td>3.0</td>\n",
       "      <td>...</td>\n",
       "      <td>7.0</td>\n",
       "      <td>6.0</td>\n",
       "      <td>5.0</td>\n",
       "      <td>6.0</td>\n",
       "      <td>5.0</td>\n",
       "      <td>6.0</td>\n",
       "      <td>41.0</td>\n",
       "      <td>7.0</td>\n",
       "      <td>8.0</td>\n",
       "      <td>4.0</td>\n",
       "    </tr>\n",
       "    <tr>\n",
       "      <th>27629</th>\n",
       "      <td>6.0</td>\n",
       "      <td>3.0</td>\n",
       "      <td>4.0</td>\n",
       "      <td>5.0</td>\n",
       "      <td>8.0</td>\n",
       "      <td>4.0</td>\n",
       "      <td>4.0</td>\n",
       "      <td>4.0</td>\n",
       "      <td>3.0</td>\n",
       "      <td>6.0</td>\n",
       "      <td>...</td>\n",
       "      <td>4.0</td>\n",
       "      <td>5.0</td>\n",
       "      <td>3.0</td>\n",
       "      <td>3.0</td>\n",
       "      <td>3.0</td>\n",
       "      <td>5.0</td>\n",
       "      <td>4.0</td>\n",
       "      <td>19.0</td>\n",
       "      <td>3.0</td>\n",
       "      <td>6.0</td>\n",
       "    </tr>\n",
       "    <tr>\n",
       "      <th>258358</th>\n",
       "      <td>7.0</td>\n",
       "      <td>5.0</td>\n",
       "      <td>11.0</td>\n",
       "      <td>6.0</td>\n",
       "      <td>7.0</td>\n",
       "      <td>11.0</td>\n",
       "      <td>13.0</td>\n",
       "      <td>5.0</td>\n",
       "      <td>5.0</td>\n",
       "      <td>5.0</td>\n",
       "      <td>...</td>\n",
       "      <td>6.0</td>\n",
       "      <td>9.0</td>\n",
       "      <td>8.0</td>\n",
       "      <td>5.0</td>\n",
       "      <td>7.0</td>\n",
       "      <td>6.0</td>\n",
       "      <td>6.0</td>\n",
       "      <td>14.0</td>\n",
       "      <td>145.0</td>\n",
       "      <td>4.0</td>\n",
       "    </tr>\n",
       "    <tr>\n",
       "      <th>49868</th>\n",
       "      <td>7.0</td>\n",
       "      <td>3.0</td>\n",
       "      <td>0.0</td>\n",
       "      <td>4.0</td>\n",
       "      <td>7.0</td>\n",
       "      <td>3.0</td>\n",
       "      <td>5.0</td>\n",
       "      <td>6.0</td>\n",
       "      <td>4.0</td>\n",
       "      <td>3.0</td>\n",
       "      <td>...</td>\n",
       "      <td>3.0</td>\n",
       "      <td>7.0</td>\n",
       "      <td>7.0</td>\n",
       "      <td>3.0</td>\n",
       "      <td>3.0</td>\n",
       "      <td>8.0</td>\n",
       "      <td>8.0</td>\n",
       "      <td>6.0</td>\n",
       "      <td>3.0</td>\n",
       "      <td>105.0</td>\n",
       "    </tr>\n",
       "  </tbody>\n",
       "</table>\n",
       "<p>1000 rows × 1000 columns</p>\n",
       "</div>"
      ],
      "text/plain": [
       "            11173  61011  252763  104335  120817  212803  220990  155031  \\\n",
       "subject_id                                                                 \n",
       "11173        48.0    4.0     5.0     7.0     9.0     5.0     9.0     4.0   \n",
       "61011         5.0   71.0     6.0     7.0    10.0     5.0     4.0     4.0   \n",
       "252763        9.0    5.0    17.0     8.0     7.0     8.0     7.0     4.0   \n",
       "104335        8.0    6.0     9.0    11.0     5.0     5.0     5.0     5.0   \n",
       "120817       11.0    5.0     4.0     5.0    99.0     7.0     7.0     6.0   \n",
       "...           ...    ...     ...     ...     ...     ...     ...     ...   \n",
       "27997         9.0    4.0     5.0     5.0     6.0     8.0    16.0     5.0   \n",
       "46808         3.0    5.0     7.0     8.0     4.0     5.0     4.0     0.0   \n",
       "27629         6.0    3.0     4.0     5.0     8.0     4.0     4.0     4.0   \n",
       "258358        7.0    5.0    11.0     6.0     7.0    11.0    13.0     5.0   \n",
       "49868         7.0    3.0     0.0     4.0     7.0     3.0     5.0     6.0   \n",
       "\n",
       "            07490  79831  ...  120252  15178  252210  230790  55363  27997  \\\n",
       "subject_id                ...                                                \n",
       "11173         9.0    6.0  ...     8.0   10.0     6.0     6.0    5.0    9.0   \n",
       "61011         6.0    5.0  ...     6.0    6.0     8.0     6.0    8.0    4.0   \n",
       "252763        6.0    9.0  ...     5.0    5.0     8.0     4.0    8.0    7.0   \n",
       "104335        6.0    3.0  ...     7.0    8.0     5.0    11.0    6.0    4.0   \n",
       "120817       10.0    3.0  ...     8.0    8.0    10.0     7.0   10.0    6.0   \n",
       "...           ...    ...  ...     ...    ...     ...     ...    ...    ...   \n",
       "27997         4.0    6.0  ...    11.0    7.0     6.0     4.0   10.0   36.0   \n",
       "46808         4.0    3.0  ...     7.0    6.0     5.0     6.0    5.0    6.0   \n",
       "27629         3.0    6.0  ...     4.0    5.0     3.0     3.0    3.0    5.0   \n",
       "258358        5.0    5.0  ...     6.0    9.0     8.0     5.0    7.0    6.0   \n",
       "49868         4.0    3.0  ...     3.0    7.0     7.0     3.0    3.0    8.0   \n",
       "\n",
       "            46808  27629  258358  49868  \n",
       "subject_id                               \n",
       "11173         9.0    4.0     9.0    7.0  \n",
       "61011        12.0    6.0     7.0    6.0  \n",
       "252763        7.0    8.0     6.0    4.0  \n",
       "104335        5.0   11.0     5.0    4.0  \n",
       "120817       12.0   11.0     5.0    7.0  \n",
       "...           ...    ...     ...    ...  \n",
       "27997         6.0    8.0    12.0    4.0  \n",
       "46808        41.0    7.0     8.0    4.0  \n",
       "27629         4.0   19.0     3.0    6.0  \n",
       "258358        6.0   14.0   145.0    4.0  \n",
       "49868         8.0    6.0     3.0  105.0  \n",
       "\n",
       "[1000 rows x 1000 columns]"
      ]
     },
     "execution_count": 213,
     "metadata": {},
     "output_type": "execute_result"
    }
   ],
   "source": [
    "\"\"\"Calculate the Cumulative Matching Characteristic curve.\"\"\"\n",
    "# Hint: don't use a library\n",
    "\n",
    "#to print full dataframe, use following code :\n",
    "#display(HTML(li_similarity_matrix.to_html()))\n",
    "\n",
    "#in the li_similarity_matrix and ri_similarity_matrix dataframe, we have the similarity score between different subjects\n",
    "#for example, we can see that the in the first row, the subject 11173 has a similarity score of 48.0 with himself (11173),\n",
    "#and a similarity score of 4.0 with the subject 61011\n",
    "li_similarity_matrix\n"
   ]
  },
  {
   "cell_type": "code",
   "execution_count": 333,
   "metadata": {},
   "outputs": [
    {
     "name": "stdout",
     "output_type": "stream",
     "text": [
      "1       0.836\n",
      "2       0.854\n",
      "3       0.859\n",
      "4       0.863\n",
      "5       0.870\n",
      "        ...  \n",
      "996     1.000\n",
      "997     1.000\n",
      "998     1.000\n",
      "999     1.000\n",
      "1000    1.000\n",
      "Length: 1000, dtype: float64\n"
     ]
    }
   ],
   "source": [
    "\"\"\"\n",
    "LEFT FINGER\n",
    "\"\"\"\n",
    "\n",
    "\n",
    "#number of row\n",
    "matrix_length_li = len(li_similarity_matrix.index)\n",
    "#dataframe of recognized or not : if recognized, value = 1. Else, value = 0 \n",
    "#the columnn is for the rank : from 0 to 1\n",
    "#the row is for the particular subject_id\n",
    "#so, for example, if at row 1 and rank 1, the value is 1, it means that it has been recognized\n",
    "recognized_df_li = pd.DataFrame()\n",
    "\n",
    "#first for loop to get through all row\n",
    "#second for loop to test for rank from 1 to 50\n",
    "\n",
    "for i in range(0,matrix_length_li):\n",
    "    #we sort the row \"i\", from higher similarity to lower\n",
    "    li_similarity_matrix_sorted = li_similarity_matrix.iloc[i].to_frame().sort_values(\n",
    "        by=list(li_similarity_matrix.iloc[i].to_frame().columns),axis=0,ascending=False).transpose()\n",
    "    #we save the subject id\n",
    "    subject_id_li = li_similarity_matrix_sorted.index[0]\n",
    "    #this list if for the \"j\" id with highest similarities \n",
    "    highest_similarities_id_li  = []\n",
    "    for j in range(1,1001):\n",
    "        #for each \"j\", we append the highest similarity id\n",
    "        #this list will then accumulates as \"j\" grows\n",
    "        highest_similarities_id_li.append(li_similarity_matrix_sorted.columns[j-1])\n",
    "        #if the subject id is in the list, we set the value of the corresponding dataframe cell to 1\n",
    "        if subject_id_li in highest_similarities_id_li:\n",
    "            recognized_df_li.at[i,j] =  1\n",
    "        else:\n",
    "            recognized_df_li.at[i,j] =  0\n",
    "\n",
    "#we can now sum over all rows (subject_id)\n",
    "#by dividing by matrix_length, we should get the recognition rate\n",
    "recognition_rate_li = recognized_df_li.sum(axis=0)/matrix_length_li\n",
    "print(recognition_rate_li)"
   ]
  },
  {
   "cell_type": "code",
   "execution_count": 334,
   "metadata": {},
   "outputs": [
    {
     "name": "stdout",
     "output_type": "stream",
     "text": [
      "1       0.890\n",
      "2       0.898\n",
      "3       0.906\n",
      "4       0.913\n",
      "5       0.915\n",
      "        ...  \n",
      "996     1.000\n",
      "997     1.000\n",
      "998     1.000\n",
      "999     1.000\n",
      "1000    1.000\n",
      "Length: 1000, dtype: float64\n"
     ]
    }
   ],
   "source": [
    "\"\"\"\n",
    "RIGHT FINGER\n",
    "\"\"\"\n",
    "\n",
    "\n",
    "#number of row\n",
    "matrix_length_ri = len(ri_similarity_matrix.index)\n",
    "#dataframe of recognized or not : if recognized, value = 1. Else, value = 0 \n",
    "#the columnn is for the rank : from 0 to 1\n",
    "#the row is for the particular subject_id\n",
    "#so, for example, if at row 1 and rank 1, the value is 1, it means that it has been recognized\n",
    "recognized_df_ri = pd.DataFrame()\n",
    "\n",
    "#first for loop to get through all row\n",
    "#second for loop to test for rank from 1 to 50\n",
    "\n",
    "for i in range(0,matrix_length_ri):\n",
    "    #we sort the row \"i\", from higher similarity to lower\n",
    "    ri_similarity_matrix_sorted = ri_similarity_matrix.iloc[i].to_frame().sort_values(\n",
    "        by=list(ri_similarity_matrix.iloc[i].to_frame().columns),axis=0,ascending=False).transpose()\n",
    "    #we save the subject id\n",
    "    subject_id_ri = ri_similarity_matrix_sorted.index[0]\n",
    "    #this list if for the \"j\" id with highest similarities \n",
    "    highest_similarities_id_ri  = []\n",
    "    for j in range(1,1001):\n",
    "        #for each \"j\", we append the highest similarity id\n",
    "        #this list will then accumulates as \"j\" grows\n",
    "        highest_similarities_id_ri.append(ri_similarity_matrix_sorted.columns[j-1])\n",
    "        #if the subject id is in the list, we set the value of the corresponding dataframe cell to 1\n",
    "        if subject_id_ri in highest_similarities_id_ri:\n",
    "            recognized_df_ri.at[i,j] =  1\n",
    "        else:\n",
    "            recognized_df_ri.at[i,j] =  0\n",
    "\n",
    "#we can now sum over all rows (subject_id)\n",
    "#by dividing by matrix_length, we should get the recognition rate\n",
    "recognition_rate_ri = recognized_df_ri.sum(axis=0)/matrix_length_ri\n",
    "print(recognition_rate_ri)"
   ]
  },
  {
   "cell_type": "code",
   "execution_count": 335,
   "metadata": {},
   "outputs": [
    {
     "data": {
      "text/plain": [
       "Text(0, 0.5, 'Recognition Rate')"
      ]
     },
     "execution_count": 335,
     "metadata": {},
     "output_type": "execute_result"
    },
    {
     "data": {
      "image/png": "[encoded data removed]",
      "text/plain": [
       "<Figure size 720x720 with 1 Axes>"
      ]
     },
     "metadata": {
      "needs_background": "light"
     },
     "output_type": "display_data"
    }
   ],
   "source": [
    "fig, axis = plt.subplots(1,1,figsize=(10,10))\n",
    "axis.plot(np.arange(1, 1001), recognition_rate_li, label='CMC curve - Left')\n",
    "axis.plot(np.arange(1, 1001), recognition_rate_ri, label='CMC curve - Right')\n",
    "axis.title.set_text(\"CMC curve for the 2 fingers\") \n",
    "axis.legend()\n",
    "axis.set_xlabel('Rank')\n",
    "axis.set_ylabel('Recognition Rate')\n",
    "\n",
    "# plt.plot(np.arange(1, 81), recognition_rate_li, label='left')\n",
    "# plt.plot(np.arange(1, 81), recognition_rate_ri, label='right')"
   ]
  },
  {
   "cell_type": "markdown",
   "metadata": {},
   "source": [
    "<div class=\"alert alert-block alert-success\">\n",
    "<b>Q7: </b> Evaluate different biometric systems\n",
    "<ul>\n",
    "    <li>Use above evaluation techniques to compare the biometric system based on the left index to the right index </li>\n",
    "    <li>Do you see any differences in any of the curves or measures?</li>\n",
    "</ul>  \n",
    "</div>"
   ]
  },
  {
   "cell_type": "markdown",
   "metadata": {},
   "source": [
    "## IV. Assignment Instructions\n",
    "For this assignment you have to submit a report (.pdf) and the implementation of this notebook (.ipynb) to toledo. The report should be between 3-8 pages (more pages $\\nRightarrow$ higher score) and should be structured around the posed questions (Q1,...). The text should demonstrate your understanding of the material and, depending on the question, clearly introduce the context, technique, your expectation and interpretation of the results. Do not limit yourselves to just answering the questions. Feel free to add figures and, if needed, some *small* code snippet to clarify your position. **The report should be self contained, the notebook functions as supplementary material only!**\n",
    "\n",
    "*Note: Make sure you include all the files required to run the notebooks on submission.* <br>\n"
   ]
  },
  {
   "cell_type": "code",
   "execution_count": null,
   "metadata": {
    "jupyter": {
     "outputs_hidden": true
    }
   },
   "outputs": [],
   "source": []
  }
 ],
 "metadata": {
  "kernelspec": {
   "display_name": "Python 3 (ipykernel)",
   "language": "python",
   "name": "python3"
  },
  "language_info": {
   "codemirror_mode": {
    "name": "ipython",
    "version": 3
   },
   "file_extension": ".py",
   "mimetype": "text/x-python",
   "name": "python",
   "nbconvert_exporter": "python",
   "pygments_lexer": "ipython3",
   "version": "3.7.0"
  }
 },
 "nbformat": 4,
 "nbformat_minor": 4
}
